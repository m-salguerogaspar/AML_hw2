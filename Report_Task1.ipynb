{
 "cells": [
  {
   "cell_type": "markdown",
   "id": "60a9bfc0",
   "metadata": {
    "id": "60a9bfc0"
   },
   "source": [
    "## PERFORMANCE IN CLASSIFIERS"
   ]
  },
  {
   "cell_type": "code",
   "execution_count": 1,
   "id": "852e4681",
   "metadata": {
    "id": "852e4681"
   },
   "outputs": [],
   "source": [
    "import pandas as pd\n",
    "import numpy as np\n",
    "\n",
    "from collections import Counter\n",
    "from sklearn.ensemble import RandomForestClassifier\n",
    "from sklearn.metrics import classification_report\n",
    "from sklearn.model_selection import train_test_split"
   ]
  },
  {
   "cell_type": "code",
   "execution_count": 2,
   "id": "a7HmydQPsey6",
   "metadata": {
    "id": "a7HmydQPsey6"
   },
   "outputs": [],
   "source": [
    "#!gdown https://drive.google.com/uc?id=1emftJouxZQrMESgqmO2Wg2vKknWtQfG1\n",
    "#!gdown https://drive.google.com/uc?id=1hfObv_kxZDCZkL-uC2NSwra3gCpHMuaH\n",
    "#!gdown https://drive.google.com/uc?id=15KbdNEUvv-f3u_TdWMINl2vTyxY8NLHF\n",
    "#!gdown https://drive.google.com/uc?id=1iXVQ1e9OGdDT8xem6DoNNwm_yBE3XD2u\n",
    "#!gdown https://drive.google.com/uc?id=17AD72lSaGJeQQBmKkvPr-vhO_eO3roLT"
   ]
  },
  {
   "cell_type": "markdown",
   "id": "778b1597",
   "metadata": {
    "id": "5ad280e8"
   },
   "source": [
    "### CLASSIFICATION MEAN_APPROACH (STATISTICAL)"
   ]
  },
  {
   "cell_type": "code",
   "execution_count": 4,
   "id": "85c826da",
   "metadata": {
    "colab": {
     "base_uri": "https://localhost:8080/"
    },
    "id": "85c826da",
    "outputId": "d4bc64a7-1e09-4e40-ccc1-4b25b4a61d78"
   },
   "outputs": [
    {
     "name": "stderr",
     "output_type": "stream",
     "text": [
      "/usr/local/lib/python3.7/dist-packages/ipykernel_launcher.py:4: FutureWarning: In a future version of pandas all arguments of DataFrame.drop except for the argument 'labels' will be keyword-only\n",
      "  after removing the cwd from sys.path.\n"
     ]
    },
    {
     "name": "stdout",
     "output_type": "stream",
     "text": [
      "Training target statistics: Counter({0.0: 106375, 1.0: 9011})\n",
      "Testing target statistics: Counter({0.0: 26540, 1.0: 2307})\n"
     ]
    }
   ],
   "source": [
    "mean_approach  = pd.read_csv('mean_approach.csv')\n",
    "\n",
    "y = mean_approach[\"isFraud\"]\n",
    "X = mean_approach.drop(\"isFraud\", 1)\n",
    "\n",
    "X_train, X_test, y_train, y_test = train_test_split(X, y, test_size=0.20, random_state=6969)\n",
    "\n",
    "print(f\"Training target statistics: {Counter(y_train)}\")\n",
    "print(f\"Testing target statistics: {Counter(y_test)}\")"
   ]
  },
  {
   "cell_type": "code",
   "execution_count": 5,
   "id": "4e3a19d2",
   "metadata": {
    "colab": {
     "base_uri": "https://localhost:8080/"
    },
    "id": "4e3a19d2",
    "outputId": "ca9d9476-3255-42f4-d59a-b20067d37cbb"
   },
   "outputs": [
    {
     "name": "stdout",
     "output_type": "stream",
     "text": [
      "              precision    recall  f1-score   support\n",
      "\n",
      "         0.0       0.93      1.00      0.96     26540\n",
      "         1.0       0.89      0.16      0.27      2307\n",
      "\n",
      "    accuracy                           0.93     28847\n",
      "   macro avg       0.91      0.58      0.62     28847\n",
      "weighted avg       0.93      0.93      0.91     28847\n",
      "\n"
     ]
    }
   ],
   "source": [
    "clf = RandomForestClassifier(max_depth=2, random_state=0)\n",
    "clf.fit(X_train, y_train)\n",
    "y_pred = clf.predict(X_test)\n",
    "print(classification_report(y_test, y_pred))"
   ]
  },
  {
   "cell_type": "markdown",
   "id": "d9dc533f",
   "metadata": {
    "id": "5436afc1"
   },
   "source": [
    "### CLASSIFICATION MODE_APPROACH (STATISTICAL)"
   ]
  },
  {
   "cell_type": "code",
   "execution_count": 7,
   "id": "8a7fb8a6",
   "metadata": {
    "colab": {
     "base_uri": "https://localhost:8080/"
    },
    "id": "8a7fb8a6",
    "outputId": "ed6e4668-1987-4c86-f393-c8668e403a41"
   },
   "outputs": [
    {
     "name": "stderr",
     "output_type": "stream",
     "text": [
      "/usr/local/lib/python3.7/dist-packages/ipykernel_launcher.py:4: FutureWarning: In a future version of pandas all arguments of DataFrame.drop except for the argument 'labels' will be keyword-only\n",
      "  after removing the cwd from sys.path.\n"
     ]
    },
    {
     "name": "stdout",
     "output_type": "stream",
     "text": [
      "Training target statistics: Counter({0.0: 106303, 1.0: 9083})\n",
      "Testing target statistics: Counter({0.0: 26612, 1.0: 2235})\n"
     ]
    }
   ],
   "source": [
    "mode_approach  = pd.read_csv('mode_approach.csv')\n",
    "\n",
    "y = mode_approach[\"isFraud\"]\n",
    "X = mode_approach.drop(\"isFraud\", 1)\n",
    "\n",
    "X_train, X_test, y_train, y_test = train_test_split(X, y, test_size=0.20, random_state=0)\n",
    "\n",
    "print(f\"Training target statistics: {Counter(y_train)}\")\n",
    "print(f\"Testing target statistics: {Counter(y_test)}\")"
   ]
  },
  {
   "cell_type": "code",
   "execution_count": 8,
   "id": "2bc7a9db",
   "metadata": {
    "colab": {
     "base_uri": "https://localhost:8080/"
    },
    "id": "2bc7a9db",
    "outputId": "6fc9971b-67bf-4c9e-d0be-c866e39669a1"
   },
   "outputs": [
    {
     "name": "stdout",
     "output_type": "stream",
     "text": [
      "              precision    recall  f1-score   support\n",
      "\n",
      "         0.0       0.94      1.00      0.97     26612\n",
      "         1.0       0.90      0.17      0.29      2235\n",
      "\n",
      "    accuracy                           0.93     28847\n",
      "   macro avg       0.92      0.59      0.63     28847\n",
      "weighted avg       0.93      0.93      0.91     28847\n",
      "\n"
     ]
    }
   ],
   "source": [
    "clf = RandomForestClassifier(max_depth=2, random_state=0)\n",
    "clf.fit(X_train, y_train)\n",
    "y_pred = clf.predict(X_test)\n",
    "print(classification_report(y_test, y_pred))"
   ]
  },
  {
   "cell_type": "markdown",
   "id": "4c116685",
   "metadata": {
    "id": "598499dc"
   },
   "source": [
    "### CLASSIFICATION UNDERCOMPLETE"
   ]
  },
  {
   "cell_type": "code",
   "execution_count": 10,
   "id": "87ae8c70",
   "metadata": {
    "colab": {
     "base_uri": "https://localhost:8080/"
    },
    "id": "87ae8c70",
    "outputId": "1a089fa1-9876-4e53-fdb9-895fe70fd5bd"
   },
   "outputs": [
    {
     "name": "stderr",
     "output_type": "stream",
     "text": [
      "/usr/local/lib/python3.7/dist-packages/ipykernel_launcher.py:4: FutureWarning: In a future version of pandas all arguments of DataFrame.drop except for the argument 'labels' will be keyword-only\n",
      "  after removing the cwd from sys.path.\n"
     ]
    },
    {
     "name": "stdout",
     "output_type": "stream",
     "text": [
      "Training target statistics: Counter({0.0: 106362, 1.0: 9024})\n",
      "Testing target statistics: Counter({0.0: 26625, 1.0: 2222})\n"
     ]
    }
   ],
   "source": [
    "undercomplete  = pd.read_csv('pd_undercomplete.csv')\n",
    "\n",
    "y = undercomplete[\"isFraud\"].apply(np.round).abs()\n",
    "X = undercomplete.drop(\"isFraud\", 1)\n",
    "\n",
    "X_train, X_test, y_train, y_test = train_test_split(X, y, test_size=0.20, random_state=0)\n",
    "\n",
    "print(f\"Training target statistics: {Counter(y_train)}\")\n",
    "print(f\"Testing target statistics: {Counter(y_test)}\")"
   ]
  },
  {
   "cell_type": "code",
   "execution_count": 11,
   "id": "039dd6c5",
   "metadata": {
    "colab": {
     "base_uri": "https://localhost:8080/"
    },
    "id": "039dd6c5",
    "outputId": "d0b99b28-5b55-4fda-8a4a-abb10adf949f"
   },
   "outputs": [
    {
     "name": "stdout",
     "output_type": "stream",
     "text": [
      "              precision    recall  f1-score   support\n",
      "\n",
      "         0.0       0.97      1.00      0.99     26625\n",
      "         1.0       1.00      0.64      0.78      2222\n",
      "\n",
      "    accuracy                           0.97     28847\n",
      "   macro avg       0.99      0.82      0.88     28847\n",
      "weighted avg       0.97      0.97      0.97     28847\n",
      "\n"
     ]
    }
   ],
   "source": [
    "clf = RandomForestClassifier(max_depth=2, random_state=0)\n",
    "clf.fit(X_train, y_train)\n",
    "y_pred = clf.predict(X_test)\n",
    "print(classification_report(y_test, y_pred))"
   ]
  },
  {
   "cell_type": "markdown",
   "id": "223ef6d2",
   "metadata": {
    "id": "91bc9eef"
   },
   "source": [
    "### CLASSIFICATION REGULARISED"
   ]
  },
  {
   "cell_type": "code",
   "execution_count": 13,
   "id": "ba89beaa",
   "metadata": {
    "colab": {
     "base_uri": "https://localhost:8080/"
    },
    "id": "ba89beaa",
    "outputId": "0d4a7bd4-687d-48b2-ae73-1b975862212c"
   },
   "outputs": [
    {
     "name": "stderr",
     "output_type": "stream",
     "text": [
      "/usr/local/lib/python3.7/dist-packages/ipykernel_launcher.py:4: FutureWarning: In a future version of pandas all arguments of DataFrame.drop except for the argument 'labels' will be keyword-only\n",
      "  after removing the cwd from sys.path.\n"
     ]
    },
    {
     "name": "stdout",
     "output_type": "stream",
     "text": [
      "Training target statistics: Counter({0.0: 106310, 1.0: 9076})\n",
      "Testing target statistics: Counter({0.0: 26615, 1.0: 2232})\n"
     ]
    }
   ],
   "source": [
    "regularized  = pd.read_csv('pd_regularized.csv')\n",
    "\n",
    "y = regularized[\"isFraud\"].apply(np.round).abs()\n",
    "X = regularized.drop(\"isFraud\", 1)\n",
    "\n",
    "X_train, X_test, y_train, y_test = train_test_split(X, y, test_size=0.20, random_state=0)\n",
    "\n",
    "print(f\"Training target statistics: {Counter(y_train)}\")\n",
    "print(f\"Testing target statistics: {Counter(y_test)}\")"
   ]
  },
  {
   "cell_type": "code",
   "execution_count": 14,
   "id": "24ab9f63",
   "metadata": {
    "colab": {
     "base_uri": "https://localhost:8080/"
    },
    "id": "24ab9f63",
    "outputId": "24280690-56d2-4ccd-d164-4ee38e3c3103"
   },
   "outputs": [
    {
     "name": "stdout",
     "output_type": "stream",
     "text": [
      "              precision    recall  f1-score   support\n",
      "\n",
      "         0.0       0.96      1.00      0.98     26615\n",
      "         1.0       0.96      0.46      0.62      2232\n",
      "\n",
      "    accuracy                           0.96     28847\n",
      "   macro avg       0.96      0.73      0.80     28847\n",
      "weighted avg       0.96      0.96      0.95     28847\n",
      "\n"
     ]
    }
   ],
   "source": [
    "clf = RandomForestClassifier(max_depth=2, random_state=0)\n",
    "clf.fit(X_train, y_train)\n",
    "y_pred = clf.predict(X_test)\n",
    "print(classification_report(y_test, y_pred))"
   ]
  },
  {
   "cell_type": "markdown",
   "id": "30afaa09",
   "metadata": {
    "id": "55f089bb"
   },
   "source": [
    "### CLASSIFICATION VARIATIONAL"
   ]
  },
  {
   "cell_type": "code",
   "execution_count": 16,
   "id": "526f9fff",
   "metadata": {
    "colab": {
     "base_uri": "https://localhost:8080/"
    },
    "id": "526f9fff",
    "outputId": "7deae07f-9155-4c99-f83d-da12ec11ef93"
   },
   "outputs": [
    {
     "name": "stderr",
     "output_type": "stream",
     "text": [
      "/usr/local/lib/python3.7/dist-packages/ipykernel_launcher.py:6: FutureWarning: In a future version of pandas all arguments of DataFrame.drop except for the argument 'labels' will be keyword-only\n",
      "  \n"
     ]
    },
    {
     "name": "stdout",
     "output_type": "stream",
     "text": [
      "Training target statistics: Counter({0.0: 106809, 1.0: 9086})\n",
      "Testing target statistics: Counter({0.0: 26725, 1.0: 2249})\n"
     ]
    }
   ],
   "source": [
    "variational  = pd.read_csv('pd_variational.csv')\n",
    "variational = variational.dropna()\n",
    "\n",
    "\n",
    "y = variational[\"isFraud\"].apply(np.round).abs()\n",
    "X = variational.drop(\"isFraud\", 1)\n",
    "\n",
    "X_train, X_test, y_train, y_test = train_test_split(X, y, test_size=0.20, random_state=0)\n",
    "\n",
    "print(f\"Training target statistics: {Counter(y_train)}\")\n",
    "print(f\"Testing target statistics: {Counter(y_test)}\")"
   ]
  },
  {
   "cell_type": "code",
   "execution_count": 17,
   "id": "2ad715fa",
   "metadata": {
    "colab": {
     "base_uri": "https://localhost:8080/"
    },
    "id": "2ad715fa",
    "outputId": "cbeaa270-6961-424c-957e-c37293d7191a"
   },
   "outputs": [
    {
     "name": "stdout",
     "output_type": "stream",
     "text": [
      "              precision    recall  f1-score   support\n",
      "\n",
      "         0.0       0.96      1.00      0.98     26725\n",
      "         1.0       0.94      0.46      0.62      2249\n",
      "\n",
      "    accuracy                           0.96     28974\n",
      "   macro avg       0.95      0.73      0.80     28974\n",
      "weighted avg       0.96      0.96      0.95     28974\n",
      "\n"
     ]
    }
   ],
   "source": [
    "clf = RandomForestClassifier(max_depth=2, random_state=0)\n",
    "clf.fit(X_train, y_train)\n",
    "y_pred = clf.predict(X_test)\n",
    "print(classification_report(y_test, y_pred))"
   ]
  },
  {
   "cell_type": "markdown",
   "id": "o6yV_F_tHTRi",
   "metadata": {
    "id": "o6yV_F_tHTRi"
   },
   "source": [
    "# LDA vs PCA"
   ]
  },
  {
   "cell_type": "code",
   "execution_count": 24,
   "id": "ANhpsv7vHjNx",
   "metadata": {
    "colab": {
     "base_uri": "https://localhost:8080/"
    },
    "id": "ANhpsv7vHjNx",
    "outputId": "d8bb319d-d706-4a2e-99fd-95c144de87a4"
   },
   "outputs": [
    {
     "name": "stderr",
     "output_type": "stream",
     "text": [
      "/usr/local/lib/python3.7/dist-packages/ipykernel_launcher.py:4: FutureWarning: In a future version of pandas all arguments of DataFrame.drop except for the argument 'labels' will be keyword-only\n",
      "  after removing the cwd from sys.path.\n"
     ]
    },
    {
     "name": "stdout",
     "output_type": "stream",
     "text": [
      "Training target statistics: Counter({0.0: 106362, 1.0: 9024})\n",
      "Testing target statistics: Counter({0.0: 26625, 1.0: 2222})\n"
     ]
    }
   ],
   "source": [
    "data  = pd.read_csv('pd_undercomplete.csv')\n",
    "\n",
    "y = data[\"isFraud\"].apply(np.round).abs()\n",
    "X = data.drop(\"isFraud\", 1)\n",
    "\n",
    "X_train, X_test, y_train, y_test = train_test_split(X, y, test_size=0.20, random_state=0)\n",
    "\n",
    "print(f\"Training target statistics: {Counter(y_train)}\")\n",
    "print(f\"Testing target statistics: {Counter(y_test)}\")"
   ]
  },
  {
   "cell_type": "markdown",
   "id": "YU81Vs1xZ7Pc",
   "metadata": {
    "id": "YU81Vs1xZ7Pc"
   },
   "source": [
    "## LDA"
   ]
  },
  {
   "cell_type": "code",
   "execution_count": 36,
   "id": "rb2XoGCMGEkS",
   "metadata": {
    "colab": {
     "base_uri": "https://localhost:8080/"
    },
    "id": "rb2XoGCMGEkS",
    "outputId": "40f8f987-9d99-4ed7-c70d-1fa717072533"
   },
   "outputs": [
    {
     "name": "stdout",
     "output_type": "stream",
     "text": [
      "              precision    recall  f1-score   support\n",
      "\n",
      "         0.0       1.00      1.00      1.00     26625\n",
      "         1.0       1.00      0.96      0.98      2222\n",
      "\n",
      "    accuracy                           1.00     28847\n",
      "   macro avg       1.00      0.98      0.99     28847\n",
      "weighted avg       1.00      1.00      1.00     28847\n",
      "\n"
     ]
    }
   ],
   "source": [
    "from sklearn.discriminant_analysis import LinearDiscriminantAnalysis\n",
    "\n",
    "clf = LinearDiscriminantAnalysis()\n",
    "clf.fit(X_train, y_train)\n",
    "y_pred = clf.predict(X_test)\n",
    "\n",
    "print(classification_report(y_test, y_pred))"
   ]
  },
  {
   "cell_type": "markdown",
   "id": "d8GdRPbrZ27v",
   "metadata": {
    "id": "d8GdRPbrZ27v"
   },
   "source": [
    "## PCA"
   ]
  },
  {
   "cell_type": "code",
   "execution_count": 37,
   "id": "oKMjCLdpUC-P",
   "metadata": {
    "colab": {
     "base_uri": "https://localhost:8080/"
    },
    "id": "oKMjCLdpUC-P",
    "outputId": "f547643a-e0bd-4e31-8e5f-e5d073ded06a"
   },
   "outputs": [
    {
     "name": "stdout",
     "output_type": "stream",
     "text": [
      "0.9998174178415913\n"
     ]
    }
   ],
   "source": [
    "from sklearn.decomposition import PCA\n",
    "\n",
    "pca = PCA(n_components=50)\n",
    "pca.fit(X_train)\n",
    "print(sum(pca.explained_variance_ratio_))\n",
    "X_tra = pca.transform(X_train)\n",
    "X_te = pca.transform(X_test)"
   ]
  },
  {
   "cell_type": "code",
   "execution_count": 38,
   "id": "ZZ9Dl-yjXGkU",
   "metadata": {
    "colab": {
     "base_uri": "https://localhost:8080/"
    },
    "id": "ZZ9Dl-yjXGkU",
    "outputId": "5aecbea1-32aa-4347-9668-1c96c4327c31"
   },
   "outputs": [
    {
     "name": "stdout",
     "output_type": "stream",
     "text": [
      "              precision    recall  f1-score   support\n",
      "\n",
      "         0.0       0.93      1.00      0.96     26625\n",
      "         1.0       1.00      0.12      0.22      2222\n",
      "\n",
      "    accuracy                           0.93     28847\n",
      "   macro avg       0.97      0.56      0.59     28847\n",
      "weighted avg       0.94      0.93      0.91     28847\n",
      "\n"
     ]
    }
   ],
   "source": [
    "clf = RandomForestClassifier(max_depth=2, random_state=0)\n",
    "clf.fit(X_tra, y_train)\n",
    "y_pred = clf.predict(X_te)\n",
    "print(classification_report(y_test, y_pred))"
   ]
  },
  {
   "cell_type": "code",
   "execution_count": null,
   "id": "31817d3e",
   "metadata": {},
   "outputs": [],
   "source": [
    "# In this case, for the unbalanced data the best metric to \n",
    "# take a look at is the recall, here the difference is huge\n",
    "# concluding that LDA method is more suitable than PCA."
   ]
  }
 ],
 "metadata": {
  "colab": {
   "collapsed_sections": [],
   "name": "report.ipynb",
   "provenance": []
  },
  "kernelspec": {
   "display_name": "Python 3 (ipykernel)",
   "language": "python",
   "name": "python3"
  },
  "language_info": {
   "codemirror_mode": {
    "name": "ipython",
    "version": 3
   },
   "file_extension": ".py",
   "mimetype": "text/x-python",
   "name": "python",
   "nbconvert_exporter": "python",
   "pygments_lexer": "ipython3",
   "version": "3.9.12"
  }
 },
 "nbformat": 4,
 "nbformat_minor": 5
}
